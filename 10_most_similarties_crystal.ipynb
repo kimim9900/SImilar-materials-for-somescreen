{
  "nbformat": 4,
  "nbformat_minor": 0,
  "metadata": {
    "colab": {
      "provenance": [],
      "authorship_tag": "ABX9TyOXYw2dWIrLPm62daVE02o7",
      "include_colab_link": true
    },
    "kernelspec": {
      "name": "python3",
      "display_name": "Python 3"
    },
    "language_info": {
      "name": "python"
    }
  },
  "cells": [
    {
      "cell_type": "markdown",
      "metadata": {
        "id": "view-in-github",
        "colab_type": "text"
      },
      "source": [
        "<a href=\"https://colab.research.google.com/github/kimim9900/SImilar-materials-for-somescreen/blob/main/10_most_similarties_crystal.ipynb\" target=\"_parent\"><img src=\"https://colab.research.google.com/assets/colab-badge.svg\" alt=\"Open In Colab\"/></a>"
      ]
    },
    {
      "cell_type": "markdown",
      "source": [
        "From Organic-1.db\n",
        "10 most similarties crystal structure"
      ],
      "metadata": {
        "id": "5v21FQIxTBrC"
      }
    },
    {
      "cell_type": "code",
      "execution_count": 2,
      "metadata": {
        "colab": {
          "base_uri": "https://localhost:8080/"
        },
        "id": "gKMRCP1ySWQB",
        "outputId": "dcc0f49d-d9b4-49d1-a769-bdb6e6873ea7"
      },
      "outputs": [
        {
          "output_type": "stream",
          "name": "stdout",
          "text": [
            "Unique ID: DAHMUX, Similarity: 0.994122700800046\n",
            "Unique ID: BIYRIM, Similarity: 0.9854171959492064\n",
            "Unique ID: EBIGUR04, Similarity: 0.974791283337386\n",
            "Unique ID: AKAWOZ, Similarity: 0.972018824652132\n",
            "Unique ID: FOCZIH, Similarity: 0.9708197307289114\n",
            "Unique ID: FOKNIC, Similarity: 0.9705823073422511\n",
            "Unique ID: HODPIZ, Similarity: 0.9703278285046156\n",
            "Unique ID: FOMWIO, Similarity: 0.9688625259278054\n",
            "Unique ID: GILGAK, Similarity: 0.9684585366843944\n",
            "Unique ID: DHNAPH01, Similarity: 0.9661130013943126\n"
          ]
        }
      ],
      "source": [
        "import pandas as pd\n",
        "\n",
        "# Load the CSV file into a pandas DataFrame\n",
        "df = pd.read_csv('similarity.csv')\n",
        "\n",
        "# Sort the dataframe by similarity in descending order\n",
        "df_sorted = df.sort_values('similarity', ascending=False)\n",
        "\n",
        "# Get the top 10 highest similarity scores and their unique_id\n",
        "top_10 = df_sorted.head(10)\n",
        "\n",
        "# Print out the unique_id and similarity for each of the top 10\n",
        "for index, row in top_10.iterrows():\n",
        "    print(f\"Unique ID: {row['unique_id']}, Similarity: {row['similarity']}\")\n"
      ]
    },
    {
      "cell_type": "code",
      "source": [],
      "metadata": {
        "id": "Mk_WB6TZSdVs"
      },
      "execution_count": null,
      "outputs": []
    }
  ]
}