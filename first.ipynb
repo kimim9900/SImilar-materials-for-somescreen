{
  "nbformat": 4,
  "nbformat_minor": 0,
  "metadata": {
    "colab": {
      "provenance": [],
      "authorship_tag": "ABX9TyPJifE7Q4k+Nrw3BBKPqolJ",
      "include_colab_link": true
    },
    "kernelspec": {
      "name": "python3",
      "display_name": "Python 3"
    },
    "language_info": {
      "name": "python"
    }
  },
  "cells": [
    {
      "cell_type": "markdown",
      "metadata": {
        "id": "view-in-github",
        "colab_type": "text"
      },
      "source": [
        "<a href=\"https://colab.research.google.com/github/kimim9900/SImilar-materials-for-somescreen/blob/main/first.ipynb\" target=\"_parent\"><img src=\"https://colab.research.google.com/assets/colab-badge.svg\" alt=\"Open In Colab\"/></a>"
      ]
    },
    {
      "cell_type": "code",
      "execution_count": null,
      "metadata": {
        "id": "tA6OxMIClYwy"
      },
      "outputs": [],
      "source": [
        "import os\n",
        "import sqlite3\n",
        "import pandas as pd\n",
        "from pyxtal.db import database\n",
        "\n",
        "def check_table_exists(db_conn, table_name):\n",
        "    cursr = db_conn.cursor()\n",
        "    str = \"select name from sqlite_master where type='table'\"\n",
        "    table_names = cursr.execute(str)\n",
        "    print(\"Tables in the database:\")\n",
        "    tables=[]\n",
        "    for name in table_names:\n",
        "        tables.append(name[0])\n",
        "    if table_name in tables:\n",
        "        return True\n",
        "    else:\n",
        "        return False\n",
        "\n",
        "# 1) Compute the template descriptor\n",
        "mech_db = database('mech.db')\n",
        "template_code = 'DAHMUX'\n",
        "template_xtal = mech_db.get_pyxtal(template_code)\n",
        "template_sph = template_xtal.get_spherical_images()\n",
        "\n",
        "# Paths to the Organic database files\n",
        "path_to_dbs = ['Organic-1.db', 'Organic-2.db', 'Organic-3.db', 'Organic-4.db']\n",
        "\n",
        "results = []\n",
        "\n",
        "# Loop over all database files\n",
        "for path_to_db in path_to_dbs:\n",
        "\n",
        "    # Create a connection to the Organic db\n",
        "    conn = sqlite3.connect(path_to_db)\n",
        "\n",
        "    if not check_table_exists(conn, 'systems'):\n",
        "        print(f\"'systems' table does not exist in the database {path_to_db}.\")\n",
        "        continue\n",
        "\n",
        "    # Query to get all the unique_ids from 'systems' table in the current Organic db\n",
        "    organic_codes_query = 'SELECT unique_id FROM systems'\n",
        "    organic_codes = pd.read_sql_query(organic_codes_query, conn)['unique_id'].tolist()\n",
        "\n",
        "    # Close the connection to the Organic db\n",
        "    conn.close()\n",
        "\n",
        "    # For each unique_id in organic db\n",
        "    for unique_id in organic_codes:\n",
        "        # Get the crystal structure and compute its descriptor\n",
        "        organic_db = database(path_to_db)\n",
        "\n",
        "        try:\n",
        "            print(f\"Details for unique_id {unique_id}:\")\n",
        "            xtal = organic_db.get_pyxtal(unique_id)\n",
        "            print(xtal)\n",
        "        except Exception as e:\n",
        "            print(f\"Failed to get details for unique_id {unique_id} due to error: {str(e)}\")\n",
        "\n",
        "        try:\n",
        "            sph = xtal.get_spherical_images()\n",
        "        except Exception as e:\n",
        "            print(f\"Failed to get spherical images for unique_id {unique_id} due to error: {str(e)}\")\n",
        "            continue\n",
        "\n",
        "        # Compute the similarity (S) between sph1 and sph2\n",
        "        try:\n",
        "            S = template_sph.get_similarity(sph, M=10, cutoff=0.95).mean()\n",
        "        except Exception as e:\n",
        "            print(f\"Failed to compute similarity for unique_id {unique_id} due to error: {str(e)}\")\n",
        "            continue\n",
        "\n",
        "        # Save the information about (unique_id, S)\n",
        "        results.append((unique_id, S))\n",
        "\n",
        "# Export the (unique_id, S) to the csv file.\n",
        "df = pd.DataFrame(results, columns=['unique_id', 'similarity'])\n",
        "df.to_csv('similarity.csv', index=False)\n"
      ]
    }
  ]
}