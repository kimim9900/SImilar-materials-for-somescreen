{
  "nbformat": 4,
  "nbformat_minor": 0,
  "metadata": {
    "colab": {
      "provenance": [],
      "authorship_tag": "ABX9TyN6M7XY/jyo1MoDVDWpie/b",
      "include_colab_link": true
    },
    "kernelspec": {
      "name": "python3",
      "display_name": "Python 3"
    },
    "language_info": {
      "name": "python"
    }
  },
  "cells": [
    {
      "cell_type": "markdown",
      "metadata": {
        "id": "view-in-github",
        "colab_type": "text"
      },
      "source": [
        "<a href=\"https://colab.research.google.com/github/kimim9900/SImilar-materials-for-somescreen/blob/main/first.ipynb\" target=\"_parent\"><img src=\"https://colab.research.google.com/assets/colab-badge.svg\" alt=\"Open In Colab\"/></a>"
      ]
    },
    {
      "cell_type": "code",
      "source": [
        "pip install --upgrade git+https://github.com/qzhu2017/PyXtal.git@master\n"
      ],
      "metadata": {
        "colab": {
          "base_uri": "https://localhost:8080/"
        },
        "id": "iKBojUvEmaFJ",
        "outputId": "092bf389-1ea6-436c-dfa8-ce5c6e9a8fd6"
      },
      "execution_count": 1,
      "outputs": [
        {
          "output_type": "stream",
          "name": "stdout",
          "text": [
            "Looking in indexes: https://pypi.org/simple, https://us-python.pkg.dev/colab-wheels/public/simple/\n",
            "Collecting git+https://github.com/qzhu2017/PyXtal.git@master\n",
            "  Cloning https://github.com/qzhu2017/PyXtal.git (to revision master) to /tmp/pip-req-build-t4t7ggyz\n",
            "  Running command git clone --filter=blob:none --quiet https://github.com/qzhu2017/PyXtal.git /tmp/pip-req-build-t4t7ggyz\n",
            "  Resolved https://github.com/qzhu2017/PyXtal.git to commit 6ccdc0d8bbc8d5c36fd92c6d84649543b8f50cb0\n",
            "  Preparing metadata (setup.py) ... \u001b[?25l\u001b[?25hdone\n",
            "Collecting spglib>=1.10.4 (from pyxtal==0.5.8)\n",
            "  Downloading spglib-2.0.2-cp310-cp310-manylinux_2_17_x86_64.manylinux2014_x86_64.whl (515 kB)\n",
            "\u001b[2K     \u001b[90m━━━━━━━━━━━━━━━━━━━━━━━━━━━━━━━━━━━━━━━\u001b[0m \u001b[32m515.3/515.3 kB\u001b[0m \u001b[31m4.6 MB/s\u001b[0m eta \u001b[36m0:00:00\u001b[0m\n",
            "\u001b[?25hCollecting pymatgen>=2022.0.12 (from pyxtal==0.5.8)\n",
            "  Downloading pymatgen-2023.6.23-cp310-cp310-manylinux_2_17_x86_64.manylinux2014_x86_64.whl (12.4 MB)\n",
            "\u001b[2K     \u001b[90m━━━━━━━━━━━━━━━━━━━━━━━━━━━━━━━━━━━━━━━━\u001b[0m \u001b[32m12.4/12.4 MB\u001b[0m \u001b[31m76.5 MB/s\u001b[0m eta \u001b[36m0:00:00\u001b[0m\n",
            "\u001b[?25hRequirement already satisfied: pandas>=0.24.2 in /usr/local/lib/python3.10/dist-packages (from pyxtal==0.5.8) (1.5.3)\n",
            "Requirement already satisfied: networkx>=2.3 in /usr/local/lib/python3.10/dist-packages (from pyxtal==0.5.8) (3.1)\n",
            "Collecting py3Dmol>=0.8.0 (from pyxtal==0.5.8)\n",
            "  Downloading py3Dmol-2.0.3-py2.py3-none-any.whl (12 kB)\n",
            "Collecting ase>=3.18.0 (from pyxtal==0.5.8)\n",
            "  Downloading ase-3.22.1-py3-none-any.whl (2.2 MB)\n",
            "\u001b[2K     \u001b[90m━━━━━━━━━━━━━━━━━━━━━━━━━━━━━━━━━━━━━━━━\u001b[0m \u001b[32m2.2/2.2 MB\u001b[0m \u001b[31m56.9 MB/s\u001b[0m eta \u001b[36m0:00:00\u001b[0m\n",
            "\u001b[?25hRequirement already satisfied: numba>=0.55.2 in /usr/local/lib/python3.10/dist-packages (from pyxtal==0.5.8) (0.56.4)\n",
            "Requirement already satisfied: scipy>=1.7.3 in /usr/local/lib/python3.10/dist-packages (from pyxtal==0.5.8) (1.10.1)\n",
            "Collecting importlib_metadata>=1.4 (from pyxtal==0.5.8)\n",
            "  Downloading importlib_metadata-6.7.0-py3-none-any.whl (22 kB)\n",
            "Collecting pyshtools==4.10 (from pyxtal==0.5.8)\n",
            "  Downloading pyshtools-4.10-cp310-cp310-manylinux_2_17_x86_64.manylinux2014_x86_64.whl (12.5 MB)\n",
            "\u001b[2K     \u001b[90m━━━━━━━━━━━━━━━━━━━━━━━━━━━━━━━━━━━━━━━━\u001b[0m \u001b[32m12.5/12.5 MB\u001b[0m \u001b[31m4.4 MB/s\u001b[0m eta \u001b[36m0:00:00\u001b[0m\n",
            "\u001b[?25hRequirement already satisfied: numpy>=1.22.3 in /usr/local/lib/python3.10/dist-packages (from pyshtools==4.10->pyxtal==0.5.8) (1.22.4)\n",
            "Requirement already satisfied: matplotlib>=3.3 in /usr/local/lib/python3.10/dist-packages (from pyshtools==4.10->pyxtal==0.5.8) (3.7.1)\n",
            "Requirement already satisfied: astropy>=4.0 in /usr/local/lib/python3.10/dist-packages (from pyshtools==4.10->pyxtal==0.5.8) (5.2.2)\n",
            "Requirement already satisfied: xarray in /usr/local/lib/python3.10/dist-packages (from pyshtools==4.10->pyxtal==0.5.8) (2022.12.0)\n",
            "Requirement already satisfied: requests in /usr/local/lib/python3.10/dist-packages (from pyshtools==4.10->pyxtal==0.5.8) (2.27.1)\n",
            "Requirement already satisfied: pooch>=1.1 in /usr/local/lib/python3.10/dist-packages (from pyshtools==4.10->pyxtal==0.5.8) (1.6.0)\n",
            "Requirement already satisfied: tqdm in /usr/local/lib/python3.10/dist-packages (from pyshtools==4.10->pyxtal==0.5.8) (4.65.0)\n",
            "Requirement already satisfied: zipp>=0.5 in /usr/local/lib/python3.10/dist-packages (from importlib_metadata>=1.4->pyxtal==0.5.8) (3.15.0)\n",
            "Requirement already satisfied: llvmlite<0.40,>=0.39.0dev0 in /usr/local/lib/python3.10/dist-packages (from numba>=0.55.2->pyxtal==0.5.8) (0.39.1)\n",
            "Requirement already satisfied: setuptools in /usr/local/lib/python3.10/dist-packages (from numba>=0.55.2->pyxtal==0.5.8) (67.7.2)\n",
            "Requirement already satisfied: python-dateutil>=2.8.1 in /usr/local/lib/python3.10/dist-packages (from pandas>=0.24.2->pyxtal==0.5.8) (2.8.2)\n",
            "Requirement already satisfied: pytz>=2020.1 in /usr/local/lib/python3.10/dist-packages (from pandas>=0.24.2->pyxtal==0.5.8) (2022.7.1)\n",
            "Requirement already satisfied: frozendict in /usr/local/lib/python3.10/dist-packages (from pymatgen>=2022.0.12->pyxtal==0.5.8) (2.3.8)\n",
            "Collecting monty>=3.0.2 (from pymatgen>=2022.0.12->pyxtal==0.5.8)\n",
            "  Downloading monty-2023.5.8-py3-none-any.whl (67 kB)\n",
            "\u001b[2K     \u001b[90m━━━━━━━━━━━━━━━━━━━━━━━━━━━━━━━━━━━━━━━━\u001b[0m \u001b[32m67.3/67.3 kB\u001b[0m \u001b[31m8.4 MB/s\u001b[0m eta \u001b[36m0:00:00\u001b[0m\n",
            "\u001b[?25hCollecting mp-api<0.34.0,>=0.27.3 (from pymatgen>=2022.0.12->pyxtal==0.5.8)\n",
            "  Downloading mp_api-0.33.3-py3-none-any.whl (75 kB)\n",
            "\u001b[2K     \u001b[90m━━━━━━━━━━━━━━━━━━━━━━━━━━━━━━━━━━━━━━━━\u001b[0m \u001b[32m75.6/75.6 kB\u001b[0m \u001b[31m9.5 MB/s\u001b[0m eta \u001b[36m0:00:00\u001b[0m\n",
            "\u001b[?25hRequirement already satisfied: palettable>=3.1.1 in /usr/local/lib/python3.10/dist-packages (from pymatgen>=2022.0.12->pyxtal==0.5.8) (3.3.3)\n",
            "Requirement already satisfied: plotly>=4.5.0 in /usr/local/lib/python3.10/dist-packages (from pymatgen>=2022.0.12->pyxtal==0.5.8) (5.13.1)\n",
            "Collecting pybtex (from pymatgen>=2022.0.12->pyxtal==0.5.8)\n",
            "  Downloading pybtex-0.24.0-py2.py3-none-any.whl (561 kB)\n",
            "\u001b[2K     \u001b[90m━━━━━━━━━━━━━━━━━━━━━━━━━━━━━━━━━━━━━━\u001b[0m \u001b[32m561.4/561.4 kB\u001b[0m \u001b[31m50.6 MB/s\u001b[0m eta \u001b[36m0:00:00\u001b[0m\n",
            "\u001b[?25hCollecting ruamel.yaml>=0.17.0 (from pymatgen>=2022.0.12->pyxtal==0.5.8)\n",
            "  Downloading ruamel.yaml-0.17.32-py3-none-any.whl (112 kB)\n",
            "\u001b[2K     \u001b[90m━━━━━━━━━━━━━━━━━━━━━━━━━━━━━━━━━━━━━━━\u001b[0m \u001b[32m112.2/112.2 kB\u001b[0m \u001b[31m6.1 MB/s\u001b[0m eta \u001b[36m0:00:00\u001b[0m\n",
            "\u001b[?25hRequirement already satisfied: sympy in /usr/local/lib/python3.10/dist-packages (from pymatgen>=2022.0.12->pyxtal==0.5.8) (1.11.1)\n",
            "Requirement already satisfied: tabulate in /usr/local/lib/python3.10/dist-packages (from pymatgen>=2022.0.12->pyxtal==0.5.8) (0.8.10)\n",
            "Collecting uncertainties>=3.1.4 (from pymatgen>=2022.0.12->pyxtal==0.5.8)\n",
            "  Downloading uncertainties-3.1.7-py2.py3-none-any.whl (98 kB)\n",
            "\u001b[2K     \u001b[90m━━━━━━━━━━━━━━━━━━━━━━━━━━━━━━━━━━━━━━━━\u001b[0m \u001b[32m98.4/98.4 kB\u001b[0m \u001b[31m12.8 MB/s\u001b[0m eta \u001b[36m0:00:00\u001b[0m\n",
            "\u001b[?25hRequirement already satisfied: pyerfa>=2.0 in /usr/local/lib/python3.10/dist-packages (from astropy>=4.0->pyshtools==4.10->pyxtal==0.5.8) (2.0.0.3)\n",
            "Requirement already satisfied: PyYAML>=3.13 in /usr/local/lib/python3.10/dist-packages (from astropy>=4.0->pyshtools==4.10->pyxtal==0.5.8) (6.0)\n",
            "Requirement already satisfied: packaging>=19.0 in /usr/local/lib/python3.10/dist-packages (from astropy>=4.0->pyshtools==4.10->pyxtal==0.5.8) (23.1)\n",
            "Requirement already satisfied: contourpy>=1.0.1 in /usr/local/lib/python3.10/dist-packages (from matplotlib>=3.3->pyshtools==4.10->pyxtal==0.5.8) (1.1.0)\n",
            "Requirement already satisfied: cycler>=0.10 in /usr/local/lib/python3.10/dist-packages (from matplotlib>=3.3->pyshtools==4.10->pyxtal==0.5.8) (0.11.0)\n",
            "Requirement already satisfied: fonttools>=4.22.0 in /usr/local/lib/python3.10/dist-packages (from matplotlib>=3.3->pyshtools==4.10->pyxtal==0.5.8) (4.40.0)\n",
            "Requirement already satisfied: kiwisolver>=1.0.1 in /usr/local/lib/python3.10/dist-packages (from matplotlib>=3.3->pyshtools==4.10->pyxtal==0.5.8) (1.4.4)\n",
            "Requirement already satisfied: pillow>=6.2.0 in /usr/local/lib/python3.10/dist-packages (from matplotlib>=3.3->pyshtools==4.10->pyxtal==0.5.8) (8.4.0)\n",
            "Requirement already satisfied: pyparsing>=2.3.1 in /usr/local/lib/python3.10/dist-packages (from matplotlib>=3.3->pyshtools==4.10->pyxtal==0.5.8) (3.1.0)\n",
            "Requirement already satisfied: msgpack in /usr/local/lib/python3.10/dist-packages (from mp-api<0.34.0,>=0.27.3->pymatgen>=2022.0.12->pyxtal==0.5.8) (1.0.5)\n",
            "Requirement already satisfied: typing-extensions>=3.7.4.1 in /usr/local/lib/python3.10/dist-packages (from mp-api<0.34.0,>=0.27.3->pymatgen>=2022.0.12->pyxtal==0.5.8) (4.6.3)\n",
            "Collecting emmet-core>=0.54.0 (from mp-api<0.34.0,>=0.27.3->pymatgen>=2022.0.12->pyxtal==0.5.8)\n",
            "  Downloading emmet_core-0.57.2-py3-none-any.whl (154 kB)\n",
            "\u001b[2K     \u001b[90m━━━━━━━━━━━━━━━━━━━━━━━━━━━━━━━━━━━━━━━\u001b[0m \u001b[32m154.3/154.3 kB\u001b[0m \u001b[31m3.1 MB/s\u001b[0m eta \u001b[36m0:00:00\u001b[0m\n",
            "\u001b[?25hRequirement already satisfied: tenacity>=6.2.0 in /usr/local/lib/python3.10/dist-packages (from plotly>=4.5.0->pymatgen>=2022.0.12->pyxtal==0.5.8) (8.2.2)\n",
            "Requirement already satisfied: appdirs>=1.3.0 in /usr/local/lib/python3.10/dist-packages (from pooch>=1.1->pyshtools==4.10->pyxtal==0.5.8) (1.4.4)\n",
            "Requirement already satisfied: six>=1.5 in /usr/local/lib/python3.10/dist-packages (from python-dateutil>=2.8.1->pandas>=0.24.2->pyxtal==0.5.8) (1.16.0)\n",
            "Requirement already satisfied: urllib3<1.27,>=1.21.1 in /usr/local/lib/python3.10/dist-packages (from requests->pyshtools==4.10->pyxtal==0.5.8) (1.26.16)\n",
            "Requirement already satisfied: certifi>=2017.4.17 in /usr/local/lib/python3.10/dist-packages (from requests->pyshtools==4.10->pyxtal==0.5.8) (2023.5.7)\n",
            "Requirement already satisfied: charset-normalizer~=2.0.0 in /usr/local/lib/python3.10/dist-packages (from requests->pyshtools==4.10->pyxtal==0.5.8) (2.0.12)\n",
            "Requirement already satisfied: idna<4,>=2.5 in /usr/local/lib/python3.10/dist-packages (from requests->pyshtools==4.10->pyxtal==0.5.8) (3.4)\n",
            "Collecting ruamel.yaml.clib>=0.2.7 (from ruamel.yaml>=0.17.0->pymatgen>=2022.0.12->pyxtal==0.5.8)\n",
            "  Downloading ruamel.yaml.clib-0.2.7-cp310-cp310-manylinux_2_17_x86_64.manylinux2014_x86_64.manylinux_2_24_x86_64.whl (485 kB)\n",
            "\u001b[2K     \u001b[90m━━━━━━━━━━━━━━━━━━━━━━━━━━━━━━━━━━━━━━\u001b[0m \u001b[32m485.6/485.6 kB\u001b[0m \u001b[31m41.2 MB/s\u001b[0m eta \u001b[36m0:00:00\u001b[0m\n",
            "\u001b[?25hRequirement already satisfied: future in /usr/local/lib/python3.10/dist-packages (from uncertainties>=3.1.4->pymatgen>=2022.0.12->pyxtal==0.5.8) (0.18.3)\n",
            "Collecting latexcodec>=1.0.4 (from pybtex->pymatgen>=2022.0.12->pyxtal==0.5.8)\n",
            "  Downloading latexcodec-2.0.1-py2.py3-none-any.whl (18 kB)\n",
            "Requirement already satisfied: mpmath>=0.19 in /usr/local/lib/python3.10/dist-packages (from sympy->pymatgen>=2022.0.12->pyxtal==0.5.8) (1.3.0)\n",
            "Requirement already satisfied: pydantic>=1.10.2 in /usr/local/lib/python3.10/dist-packages (from emmet-core>=0.54.0->mp-api<0.34.0,>=0.27.3->pymatgen>=2022.0.12->pyxtal==0.5.8) (1.10.9)\n",
            "Building wheels for collected packages: pyxtal\n",
            "  Building wheel for pyxtal (setup.py) ... \u001b[?25l\u001b[?25hdone\n",
            "  Created wheel for pyxtal: filename=pyxtal-0.5.8-py3-none-any.whl size=2677084 sha256=4d0309ab30f6f256e826adc52738311b6d287596b2e558a75fe0d0325520b1b0\n",
            "  Stored in directory: /tmp/pip-ephem-wheel-cache-f44jl030/wheels/7c/f1/bc/024569eda373eb03dc3e62f9741a0976f01ce599635b322bbf\n",
            "Successfully built pyxtal\n",
            "Installing collected packages: py3Dmol, uncertainties, spglib, ruamel.yaml.clib, monty, latexcodec, importlib_metadata, ruamel.yaml, pybtex, ase, pyshtools, emmet-core, mp-api, pymatgen, pyxtal\n",
            "Successfully installed ase-3.22.1 emmet-core-0.57.2 importlib_metadata-6.7.0 latexcodec-2.0.1 monty-2023.5.8 mp-api-0.33.3 py3Dmol-2.0.3 pybtex-0.24.0 pymatgen-2023.6.23 pyshtools-4.10 pyxtal-0.5.8 ruamel.yaml-0.17.32 ruamel.yaml.clib-0.2.7 spglib-2.0.2 uncertainties-3.1.7\n"
          ]
        }
      ]
    },
    {
      "cell_type": "code",
      "source": [
        "!pip install rdkit-pypi\n"
      ],
      "metadata": {
        "colab": {
          "base_uri": "https://localhost:8080/"
        },
        "id": "ZfVXWx4Rml-c",
        "outputId": "6ae2375f-e8e8-4d68-bc95-56a28ef56c62"
      },
      "execution_count": 2,
      "outputs": [
        {
          "output_type": "stream",
          "name": "stdout",
          "text": [
            "Looking in indexes: https://pypi.org/simple, https://us-python.pkg.dev/colab-wheels/public/simple/\n",
            "Collecting rdkit-pypi\n",
            "  Downloading rdkit_pypi-2022.9.5-cp310-cp310-manylinux_2_17_x86_64.manylinux2014_x86_64.whl (29.4 MB)\n",
            "\u001b[2K     \u001b[90m━━━━━━━━━━━━━━━━━━━━━━━━━━━━━━━━━━━━━━━━\u001b[0m \u001b[32m29.4/29.4 MB\u001b[0m \u001b[31m46.8 MB/s\u001b[0m eta \u001b[36m0:00:00\u001b[0m\n",
            "\u001b[?25hRequirement already satisfied: numpy in /usr/local/lib/python3.10/dist-packages (from rdkit-pypi) (1.22.4)\n",
            "Requirement already satisfied: Pillow in /usr/local/lib/python3.10/dist-packages (from rdkit-pypi) (8.4.0)\n",
            "Installing collected packages: rdkit-pypi\n",
            "Successfully installed rdkit-pypi-2022.9.5\n"
          ]
        }
      ]
    },
    {
      "cell_type": "code",
      "source": [
        "# I download the file for Organic-1.db, 2, 3, and 4\n",
        "# and I also downloaded mech.db"
      ],
      "metadata": {
        "id": "FFhpoLbjnM8Y"
      },
      "execution_count": null,
      "outputs": []
    },
    {
      "cell_type": "code",
      "execution_count": 3,
      "metadata": {
        "colab": {
          "base_uri": "https://localhost:8080/",
          "height": 710
        },
        "id": "tA6OxMIClYwy",
        "outputId": "1d6d924c-4362-44cb-afe1-b50558ca264b"
      },
      "outputs": [
        {
          "output_type": "stream",
          "name": "stdout",
          "text": [
            "Tables in the database:\n",
            "Details for unique_id 1021e07653b9660d014c758778ebd19e:\n",
            "Failed to get details for unique_id 1021e07653b9660d014c758778ebd19e due to error: cannot find the entry from 1021e07653b9660d014c758778ebd19e\n",
            "Failed to get spherical images for unique_id 1021e07653b9660d014c758778ebd19e due to error: name 'xtal' is not defined\n",
            "Details for unique_id 1022379ae32b33f912b010ea1823fff9:\n",
            "Failed to get details for unique_id 1022379ae32b33f912b010ea1823fff9 due to error: cannot find the entry from 1022379ae32b33f912b010ea1823fff9\n",
            "Failed to get spherical images for unique_id 1022379ae32b33f912b010ea1823fff9 due to error: name 'xtal' is not defined\n",
            "Details for unique_id 1022d64f2007ce0d30f7ccda9bc7bb5d:\n",
            "Failed to get details for unique_id 1022d64f2007ce0d30f7ccda9bc7bb5d due to error: cannot find the entry from 1022d64f2007ce0d30f7ccda9bc7bb5d\n",
            "Failed to get spherical images for unique_id 1022d64f2007ce0d30f7ccda9bc7bb5d due to error: name 'xtal' is not defined\n",
            "Details for unique_id 102ec1e65f33acc4bf4a743c7a9e57ac:\n",
            "Failed to get details for unique_id 102ec1e65f33acc4bf4a743c7a9e57ac due to error: cannot find the entry from 102ec1e65f33acc4bf4a743c7a9e57ac\n",
            "Failed to get spherical images for unique_id 102ec1e65f33acc4bf4a743c7a9e57ac due to error: name 'xtal' is not defined\n",
            "Details for unique_id 10351449312a87dfe169e60873b4e0c4:\n",
            "Failed to get details for unique_id 10351449312a87dfe169e60873b4e0c4 due to error: cannot find the entry from 10351449312a87dfe169e60873b4e0c4\n",
            "Failed to get spherical images for unique_id 10351449312a87dfe169e60873b4e0c4 due to error: name 'xtal' is not defined\n",
            "Details for unique_id 1052c7dbaeffd09bc759035dc351970e:\n",
            "Failed to get details for unique_id 1052c7dbaeffd09bc759035dc351970e due to error: cannot find the entry from 1052c7dbaeffd09bc759035dc351970e\n",
            "Failed to get spherical images for unique_id 1052c7dbaeffd09bc759035dc351970e due to error: name 'xtal' is not defined\n"
          ]
        },
        {
          "output_type": "error",
          "ename": "KeyboardInterrupt",
          "evalue": "ignored",
          "traceback": [
            "\u001b[0;31m---------------------------------------------------------------------------\u001b[0m",
            "\u001b[0;31mKeyboardInterrupt\u001b[0m                         Traceback (most recent call last)",
            "\u001b[0;32m<ipython-input-3-ea4eaea2bccd>\u001b[0m in \u001b[0;36m<cell line: 31>\u001b[0;34m()\u001b[0m\n\u001b[1;32m     48\u001b[0m     \u001b[0;32mfor\u001b[0m \u001b[0munique_id\u001b[0m \u001b[0;32min\u001b[0m \u001b[0morganic_codes\u001b[0m\u001b[0;34m:\u001b[0m\u001b[0;34m\u001b[0m\u001b[0;34m\u001b[0m\u001b[0m\n\u001b[1;32m     49\u001b[0m         \u001b[0;31m# Get the crystal structure and compute its descriptor\u001b[0m\u001b[0;34m\u001b[0m\u001b[0;34m\u001b[0m\u001b[0m\n\u001b[0;32m---> 50\u001b[0;31m         \u001b[0morganic_db\u001b[0m \u001b[0;34m=\u001b[0m \u001b[0mdatabase\u001b[0m\u001b[0;34m(\u001b[0m\u001b[0mpath_to_db\u001b[0m\u001b[0;34m)\u001b[0m\u001b[0;34m\u001b[0m\u001b[0;34m\u001b[0m\u001b[0m\n\u001b[0m\u001b[1;32m     51\u001b[0m \u001b[0;34m\u001b[0m\u001b[0m\n\u001b[1;32m     52\u001b[0m         \u001b[0;32mtry\u001b[0m\u001b[0;34m:\u001b[0m\u001b[0;34m\u001b[0m\u001b[0;34m\u001b[0m\u001b[0m\n",
            "\u001b[0;32m/usr/local/lib/python3.10/dist-packages/pyxtal/db.py\u001b[0m in \u001b[0;36m__init__\u001b[0;34m(self, db_name)\u001b[0m\n\u001b[1;32m     79\u001b[0m \u001b[0;34m\u001b[0m\u001b[0m\n\u001b[1;32m     80\u001b[0m         \u001b[0mself\u001b[0m\u001b[0;34m.\u001b[0m\u001b[0mdb\u001b[0m \u001b[0;34m=\u001b[0m \u001b[0mconnect\u001b[0m\u001b[0;34m(\u001b[0m\u001b[0mdb_name\u001b[0m\u001b[0;34m)\u001b[0m\u001b[0;34m\u001b[0m\u001b[0;34m\u001b[0m\u001b[0m\n\u001b[0;32m---> 81\u001b[0;31m         \u001b[0mself\u001b[0m\u001b[0;34m.\u001b[0m\u001b[0mget_all_codes\u001b[0m\u001b[0;34m(\u001b[0m\u001b[0;34m)\u001b[0m\u001b[0;34m\u001b[0m\u001b[0;34m\u001b[0m\u001b[0m\n\u001b[0m\u001b[1;32m     82\u001b[0m         self.keys = ['csd_code', 'space_group', 'spg_num',\n\u001b[1;32m     83\u001b[0m                      \u001b[0;34m'Z'\u001b[0m\u001b[0;34m,\u001b[0m \u001b[0;34m'Zprime'\u001b[0m\u001b[0;34m,\u001b[0m \u001b[0;34m'url'\u001b[0m\u001b[0;34m,\u001b[0m \u001b[0;34m'mol_name'\u001b[0m\u001b[0;34m,\u001b[0m\u001b[0;34m\u001b[0m\u001b[0;34m\u001b[0m\u001b[0m\n",
            "\u001b[0;32m/usr/local/lib/python3.10/dist-packages/pyxtal/db.py\u001b[0m in \u001b[0;36mget_all_codes\u001b[0;34m(self)\u001b[0m\n\u001b[1;32m     97\u001b[0m     \u001b[0;32mdef\u001b[0m \u001b[0mget_all_codes\u001b[0m\u001b[0;34m(\u001b[0m\u001b[0mself\u001b[0m\u001b[0;34m)\u001b[0m\u001b[0;34m:\u001b[0m\u001b[0;34m\u001b[0m\u001b[0;34m\u001b[0m\u001b[0m\n\u001b[1;32m     98\u001b[0m         \u001b[0mcodes\u001b[0m \u001b[0;34m=\u001b[0m \u001b[0;34m[\u001b[0m\u001b[0;34m]\u001b[0m\u001b[0;34m\u001b[0m\u001b[0;34m\u001b[0m\u001b[0m\n\u001b[0;32m---> 99\u001b[0;31m         \u001b[0;32mfor\u001b[0m \u001b[0mrow\u001b[0m \u001b[0;32min\u001b[0m \u001b[0mself\u001b[0m\u001b[0;34m.\u001b[0m\u001b[0mdb\u001b[0m\u001b[0;34m.\u001b[0m\u001b[0mselect\u001b[0m\u001b[0;34m(\u001b[0m\u001b[0;34m)\u001b[0m\u001b[0;34m:\u001b[0m\u001b[0;34m\u001b[0m\u001b[0;34m\u001b[0m\u001b[0m\n\u001b[0m\u001b[1;32m    100\u001b[0m             \u001b[0;32mif\u001b[0m \u001b[0mrow\u001b[0m\u001b[0;34m.\u001b[0m\u001b[0mcsd_code\u001b[0m \u001b[0;32mnot\u001b[0m \u001b[0;32min\u001b[0m \u001b[0mcodes\u001b[0m\u001b[0;34m:\u001b[0m\u001b[0;34m\u001b[0m\u001b[0;34m\u001b[0m\u001b[0m\n\u001b[1;32m    101\u001b[0m                 \u001b[0mcodes\u001b[0m\u001b[0;34m.\u001b[0m\u001b[0mappend\u001b[0m\u001b[0;34m(\u001b[0m\u001b[0mrow\u001b[0m\u001b[0;34m.\u001b[0m\u001b[0mcsd_code\u001b[0m\u001b[0;34m)\u001b[0m\u001b[0;34m\u001b[0m\u001b[0;34m\u001b[0m\u001b[0m\n",
            "\u001b[0;32m/usr/local/lib/python3.10/dist-packages/ase/parallel.py\u001b[0m in \u001b[0;36mnew_generator\u001b[0;34m(*args, **kwargs)\u001b[0m\n\u001b[1;32m    273\u001b[0m             not kwargs.pop('parallel', True)):\n\u001b[1;32m    274\u001b[0m             \u001b[0;31m# Disable:\u001b[0m\u001b[0;34m\u001b[0m\u001b[0;34m\u001b[0m\u001b[0m\n\u001b[0;32m--> 275\u001b[0;31m             \u001b[0;32mfor\u001b[0m \u001b[0mresult\u001b[0m \u001b[0;32min\u001b[0m \u001b[0mgenerator\u001b[0m\u001b[0;34m(\u001b[0m\u001b[0;34m*\u001b[0m\u001b[0margs\u001b[0m\u001b[0;34m,\u001b[0m \u001b[0;34m**\u001b[0m\u001b[0mkwargs\u001b[0m\u001b[0;34m)\u001b[0m\u001b[0;34m:\u001b[0m\u001b[0;34m\u001b[0m\u001b[0;34m\u001b[0m\u001b[0m\n\u001b[0m\u001b[1;32m    276\u001b[0m                 \u001b[0;32myield\u001b[0m \u001b[0mresult\u001b[0m\u001b[0;34m\u001b[0m\u001b[0;34m\u001b[0m\u001b[0m\n\u001b[1;32m    277\u001b[0m             \u001b[0;32mreturn\u001b[0m\u001b[0;34m\u001b[0m\u001b[0;34m\u001b[0m\u001b[0m\n",
            "\u001b[0;32m/usr/local/lib/python3.10/dist-packages/ase/db/core.py\u001b[0m in \u001b[0;36mselect\u001b[0;34m(self, selection, filter, explain, verbosity, limit, offset, sort, include_data, columns, **kwargs)\u001b[0m\n\u001b[1;32m    484\u001b[0m \u001b[0;34m\u001b[0m\u001b[0m\n\u001b[1;32m    485\u001b[0m         \u001b[0mkeys\u001b[0m\u001b[0;34m,\u001b[0m \u001b[0mcmps\u001b[0m \u001b[0;34m=\u001b[0m \u001b[0mparse_selection\u001b[0m\u001b[0;34m(\u001b[0m\u001b[0mselection\u001b[0m\u001b[0;34m,\u001b[0m \u001b[0;34m**\u001b[0m\u001b[0mkwargs\u001b[0m\u001b[0;34m)\u001b[0m\u001b[0;34m\u001b[0m\u001b[0;34m\u001b[0m\u001b[0m\n\u001b[0;32m--> 486\u001b[0;31m         for row in self._select(keys, cmps, explain=explain,\n\u001b[0m\u001b[1;32m    487\u001b[0m                                 \u001b[0mverbosity\u001b[0m\u001b[0;34m=\u001b[0m\u001b[0mverbosity\u001b[0m\u001b[0;34m,\u001b[0m\u001b[0;34m\u001b[0m\u001b[0;34m\u001b[0m\u001b[0m\n\u001b[1;32m    488\u001b[0m                                 \u001b[0mlimit\u001b[0m\u001b[0;34m=\u001b[0m\u001b[0mlimit\u001b[0m\u001b[0;34m,\u001b[0m \u001b[0moffset\u001b[0m\u001b[0;34m=\u001b[0m\u001b[0moffset\u001b[0m\u001b[0;34m,\u001b[0m \u001b[0msort\u001b[0m\u001b[0;34m=\u001b[0m\u001b[0msort\u001b[0m\u001b[0;34m,\u001b[0m\u001b[0;34m\u001b[0m\u001b[0;34m\u001b[0m\u001b[0m\n",
            "\u001b[0;32m/usr/local/lib/python3.10/dist-packages/ase/db/sqlite.py\u001b[0m in \u001b[0;36m_select\u001b[0;34m(self, keys, cmps, explain, verbosity, limit, offset, sort, include_data, columns)\u001b[0m\n\u001b[1;32m    696\u001b[0m                 \u001b[0;32mfor\u001b[0m \u001b[0mshortvalues\u001b[0m \u001b[0;32min\u001b[0m \u001b[0mcur\u001b[0m\u001b[0;34m.\u001b[0m\u001b[0mfetchall\u001b[0m\u001b[0;34m(\u001b[0m\u001b[0;34m)\u001b[0m\u001b[0;34m:\u001b[0m\u001b[0;34m\u001b[0m\u001b[0;34m\u001b[0m\u001b[0m\n\u001b[1;32m    697\u001b[0m                     \u001b[0mvalues\u001b[0m\u001b[0;34m[\u001b[0m\u001b[0mcolumnindex\u001b[0m\u001b[0;34m]\u001b[0m \u001b[0;34m=\u001b[0m \u001b[0mshortvalues\u001b[0m\u001b[0;34m\u001b[0m\u001b[0;34m\u001b[0m\u001b[0m\n\u001b[0;32m--> 698\u001b[0;31m                     \u001b[0;32myield\u001b[0m \u001b[0mself\u001b[0m\u001b[0;34m.\u001b[0m\u001b[0m_convert_tuple_to_row\u001b[0m\u001b[0;34m(\u001b[0m\u001b[0mtuple\u001b[0m\u001b[0;34m(\u001b[0m\u001b[0mvalues\u001b[0m\u001b[0;34m)\u001b[0m\u001b[0;34m)\u001b[0m\u001b[0;34m\u001b[0m\u001b[0;34m\u001b[0m\u001b[0m\n\u001b[0m\u001b[1;32m    699\u001b[0m                     \u001b[0mn\u001b[0m \u001b[0;34m+=\u001b[0m \u001b[0;36m1\u001b[0m\u001b[0;34m\u001b[0m\u001b[0;34m\u001b[0m\u001b[0m\n\u001b[1;32m    700\u001b[0m \u001b[0;34m\u001b[0m\u001b[0m\n",
            "\u001b[0;32m/usr/local/lib/python3.10/dist-packages/ase/db/sqlite.py\u001b[0m in \u001b[0;36m_convert_tuple_to_row\u001b[0;34m(self, values)\u001b[0m\n\u001b[1;32m    460\u001b[0m                \u001b[0;34m'user'\u001b[0m\u001b[0;34m:\u001b[0m \u001b[0mvalues\u001b[0m\u001b[0;34m[\u001b[0m\u001b[0;36m4\u001b[0m\u001b[0;34m]\u001b[0m\u001b[0;34m,\u001b[0m\u001b[0;34m\u001b[0m\u001b[0;34m\u001b[0m\u001b[0m\n\u001b[1;32m    461\u001b[0m                \u001b[0;34m'numbers'\u001b[0m\u001b[0;34m:\u001b[0m \u001b[0mdeblob\u001b[0m\u001b[0;34m(\u001b[0m\u001b[0mvalues\u001b[0m\u001b[0;34m[\u001b[0m\u001b[0;36m5\u001b[0m\u001b[0;34m]\u001b[0m\u001b[0;34m,\u001b[0m \u001b[0mnp\u001b[0m\u001b[0;34m.\u001b[0m\u001b[0mint32\u001b[0m\u001b[0;34m)\u001b[0m\u001b[0;34m,\u001b[0m\u001b[0;34m\u001b[0m\u001b[0;34m\u001b[0m\u001b[0m\n\u001b[0;32m--> 462\u001b[0;31m                \u001b[0;34m'positions'\u001b[0m\u001b[0;34m:\u001b[0m \u001b[0mdeblob\u001b[0m\u001b[0;34m(\u001b[0m\u001b[0mvalues\u001b[0m\u001b[0;34m[\u001b[0m\u001b[0;36m6\u001b[0m\u001b[0;34m]\u001b[0m\u001b[0;34m,\u001b[0m \u001b[0mshape\u001b[0m\u001b[0;34m=\u001b[0m\u001b[0;34m(\u001b[0m\u001b[0;34m-\u001b[0m\u001b[0;36m1\u001b[0m\u001b[0;34m,\u001b[0m \u001b[0;36m3\u001b[0m\u001b[0;34m)\u001b[0m\u001b[0;34m)\u001b[0m\u001b[0;34m,\u001b[0m\u001b[0;34m\u001b[0m\u001b[0;34m\u001b[0m\u001b[0m\n\u001b[0m\u001b[1;32m    463\u001b[0m                'cell': deblob(values[7], shape=(3, 3))}\n\u001b[1;32m    464\u001b[0m \u001b[0;34m\u001b[0m\u001b[0m\n",
            "\u001b[0;32m/usr/local/lib/python3.10/dist-packages/ase/db/sqlite.py\u001b[0m in \u001b[0;36mdeblob\u001b[0;34m(self, buf, dtype, shape)\u001b[0m\n\u001b[1;32m    160\u001b[0m         \u001b[0;32mif\u001b[0m \u001b[0mbuf\u001b[0m \u001b[0;32mis\u001b[0m \u001b[0;32mNone\u001b[0m\u001b[0;34m:\u001b[0m\u001b[0;34m\u001b[0m\u001b[0;34m\u001b[0m\u001b[0m\n\u001b[1;32m    161\u001b[0m             \u001b[0;32mreturn\u001b[0m \u001b[0;32mNone\u001b[0m\u001b[0;34m\u001b[0m\u001b[0;34m\u001b[0m\u001b[0m\n\u001b[0;32m--> 162\u001b[0;31m         \u001b[0;32mif\u001b[0m \u001b[0mlen\u001b[0m\u001b[0;34m(\u001b[0m\u001b[0mbuf\u001b[0m\u001b[0;34m)\u001b[0m \u001b[0;34m==\u001b[0m \u001b[0;36m0\u001b[0m\u001b[0;34m:\u001b[0m\u001b[0;34m\u001b[0m\u001b[0;34m\u001b[0m\u001b[0m\n\u001b[0m\u001b[1;32m    163\u001b[0m             \u001b[0marray\u001b[0m \u001b[0;34m=\u001b[0m \u001b[0mnp\u001b[0m\u001b[0;34m.\u001b[0m\u001b[0mzeros\u001b[0m\u001b[0;34m(\u001b[0m\u001b[0;36m0\u001b[0m\u001b[0;34m,\u001b[0m \u001b[0mdtype\u001b[0m\u001b[0;34m)\u001b[0m\u001b[0;34m\u001b[0m\u001b[0;34m\u001b[0m\u001b[0m\n\u001b[1;32m    164\u001b[0m         \u001b[0;32melse\u001b[0m\u001b[0;34m:\u001b[0m\u001b[0;34m\u001b[0m\u001b[0;34m\u001b[0m\u001b[0m\n",
            "\u001b[0;31mKeyboardInterrupt\u001b[0m: "
          ]
        }
      ],
      "source": [
        "import os\n",
        "import sqlite3\n",
        "import pandas as pd\n",
        "from pyxtal.db import database\n",
        "\n",
        "def check_table_exists(db_conn, table_name):\n",
        "    cursr = db_conn.cursor()\n",
        "    str = \"select name from sqlite_master where type='table'\"\n",
        "    table_names = cursr.execute(str)\n",
        "    print(\"Tables in the database:\")\n",
        "    tables=[]\n",
        "    for name in table_names:\n",
        "        tables.append(name[0])\n",
        "    if table_name in tables:\n",
        "        return True\n",
        "    else:\n",
        "        return False\n",
        "\n",
        "# 1) Compute the template descriptor\n",
        "mech_db = database('mech.db')\n",
        "template_code = 'DAHMUX'\n",
        "template_xtal = mech_db.get_pyxtal(template_code)\n",
        "template_sph = template_xtal.get_spherical_images()\n",
        "\n",
        "# Paths to the Organic database files\n",
        "path_to_dbs = ['Organic-1.db', 'Organic-2.db', 'Organic-3.db', 'Organic-4.db']\n",
        "\n",
        "results = []\n",
        "\n",
        "# Loop over all database files\n",
        "for path_to_db in path_to_dbs:\n",
        "\n",
        "    # Create a connection to the Organic db\n",
        "    conn = sqlite3.connect(path_to_db)\n",
        "\n",
        "    if not check_table_exists(conn, 'systems'):\n",
        "        print(f\"'systems' table does not exist in the database {path_to_db}.\")\n",
        "        continue\n",
        "\n",
        "    # Query to get all the unique_ids from 'systems' table in the current Organic db\n",
        "    organic_codes_query = 'SELECT unique_id FROM systems'\n",
        "    organic_codes = pd.read_sql_query(organic_codes_query, conn)['unique_id'].tolist()\n",
        "\n",
        "    # Close the connection to the Organic db\n",
        "    conn.close()\n",
        "\n",
        "    # For each unique_id in organic db\n",
        "    for unique_id in organic_codes:\n",
        "        # Get the crystal structure and compute its descriptor\n",
        "        organic_db = database(path_to_db)\n",
        "\n",
        "        try:\n",
        "            print(f\"Details for unique_id {unique_id}:\")\n",
        "            xtal = organic_db.get_pyxtal(unique_id)\n",
        "            print(xtal)\n",
        "        except Exception as e:\n",
        "            print(f\"Failed to get details for unique_id {unique_id} due to error: {str(e)}\")\n",
        "\n",
        "        try:\n",
        "            sph = xtal.get_spherical_images()\n",
        "        except Exception as e:\n",
        "            print(f\"Failed to get spherical images for unique_id {unique_id} due to error: {str(e)}\")\n",
        "            continue\n",
        "\n",
        "        # Compute the similarity (S) between sph1 and sph2\n",
        "        try:\n",
        "            S = template_sph.get_similarity(sph, M=10, cutoff=0.95).mean()\n",
        "        except Exception as e:\n",
        "            print(f\"Failed to compute similarity for unique_id {unique_id} due to error: {str(e)}\")\n",
        "            continue\n",
        "\n",
        "        # Save the information about (unique_id, S)\n",
        "        results.append((unique_id, S))\n",
        "\n",
        "# Export the (unique_id, S) to the csv file.\n",
        "df = pd.DataFrame(results, columns=['unique_id', 'similarity'])\n",
        "df.to_csv('similarity.csv', index=False)\n"
      ]
    },
    {
      "cell_type": "code",
      "source": [],
      "metadata": {
        "id": "Y-nbAYOzmtOS"
      },
      "execution_count": null,
      "outputs": []
    }
  ]
}